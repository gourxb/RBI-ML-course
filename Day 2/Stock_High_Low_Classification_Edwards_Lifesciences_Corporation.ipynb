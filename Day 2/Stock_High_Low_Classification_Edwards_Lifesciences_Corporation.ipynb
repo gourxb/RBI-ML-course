{
 "cells": [
  {
   "cell_type": "code",
   "execution_count": 11,
   "metadata": {},
   "outputs": [],
   "source": [
    "import numpy as np\n",
    "# Import decision tree and svm classifiers\n",
    "from sklearn.model_selection import train_test_split\n",
    "from sklearn.metrics import accuracy_score"
   ]
  },
  {
   "cell_type": "code",
   "execution_count": 12,
   "metadata": {},
   "outputs": [
    {
     "name": "stdout",
     "output_type": "stream",
     "text": [
      "[3.81250e+00 4.15625e+00 3.81250e+00 4.12500e+00 4.12500e+00 3.67560e+06]\n"
     ]
    }
   ],
   "source": [
    "# Read the data. We do not need the header and date column of the file\n",
    "# Change the path if required\n",
    "fp = open(\"../data/EW-MAX.csv\")\n",
    "data = np.array([[float(i.strip()) for i in line.split(',')[1:]] for line in fp.readlines()[1:]])\n",
    "\n",
    "print(data[0])"
   ]
  },
  {
   "cell_type": "markdown",
   "metadata": {},
   "source": [
    "### Preprocessing"
   ]
  },
  {
   "cell_type": "code",
   "execution_count": 13,
   "metadata": {},
   "outputs": [
    {
     "name": "stdout",
     "output_type": "stream",
     "text": [
      "[3.8125  4.15625 3.8125  4.125   4.125  ]\n"
     ]
    }
   ],
   "source": [
    "# Remove Volume feature\n",
    "data = data[:,:5]\n",
    "print(data[0])"
   ]
  },
  {
   "cell_type": "code",
   "execution_count": 14,
   "metadata": {},
   "outputs": [],
   "source": [
    "# One day ahead prediction using data of previous three days\n",
    "new_data = list()\n",
    "for i in range(2, len(data)):\n",
    "    new_data.append(np.concatenate((data[i], data[i-1], data[i-2])))"
   ]
  },
  {
   "cell_type": "code",
   "execution_count": 15,
   "metadata": {},
   "outputs": [],
   "source": [
    "# Since we are going to predict one day ahead, the last sample is not required\n",
    "X, Y = np.array(new_data), np.zeros(len(new_data)-1)"
   ]
  },
  {
   "cell_type": "code",
   "execution_count": 16,
   "metadata": {},
   "outputs": [],
   "source": [
    "# Now perform labelling. Given yesterday's closing price, predict today's opening high and low\n",
    "for i in range(len(X)-1):\n",
    "    # Opening price is higher than closing price\n",
    "    if X[i][3] - X[i+1][0] < 0:\n",
    "        Y[i] = 1"
   ]
  },
  {
   "cell_type": "code",
   "execution_count": 17,
   "metadata": {},
   "outputs": [],
   "source": [
    "# We can now remove the last sample\n",
    "X = X[:-1, :]"
   ]
  },
  {
   "cell_type": "code",
   "execution_count": 18,
   "metadata": {},
   "outputs": [],
   "source": [
    "# Perform a train test split\n",
    "X_train, X_test, Y_train, Y_test = train_test_split(X, Y, test_size=0.2, random_state=0)"
   ]
  },
  {
   "cell_type": "markdown",
   "metadata": {},
   "source": [
    "### Prediction"
   ]
  },
  {
   "cell_type": "code",
   "execution_count": 19,
   "metadata": {},
   "outputs": [],
   "source": [
    "# Perform predictions\n",
    "# Check out both svm and decision tree. Try adding polynomial features and see which gives best results."
   ]
  },
  {
   "cell_type": "code",
   "execution_count": null,
   "metadata": {},
   "outputs": [],
   "source": []
  }
 ],
 "metadata": {
  "kernelspec": {
   "display_name": "Python 3",
   "language": "python",
   "name": "python3"
  },
  "language_info": {
   "codemirror_mode": {
    "name": "ipython",
    "version": 3
   },
   "file_extension": ".py",
   "mimetype": "text/x-python",
   "name": "python",
   "nbconvert_exporter": "python",
   "pygments_lexer": "ipython3",
   "version": "3.6.0"
  }
 },
 "nbformat": 4,
 "nbformat_minor": 2
}
