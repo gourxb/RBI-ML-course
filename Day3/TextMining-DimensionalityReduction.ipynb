{
 "cells": [
  {
   "cell_type": "code",
   "execution_count": 14,
   "metadata": {},
   "outputs": [],
   "source": [
    "import numpy as np\n",
    "import re\n",
    "import nltk\n",
    "import string\n",
    "from nltk.corpus import stopwords\n",
    "from sklearn.feature_extraction.text import TfidfVectorizer\n",
    "from sklearn.ensemble import RandomForestClassifier\n",
    "from sklearn.model_selection import train_test_split\n",
    "from imblearn.under_sampling import RandomUnderSampler\n",
    "from sklearn.metrics import accuracy_score, recall_score, precision_score, f1_score\n",
    "\n",
    "fp = open(\"../data/BL_2018_1.csv\", encoding='utf-8')\n",
    "lines = fp.readlines()[2:]\n",
    "fp.close()"
   ]
  },
  {
   "cell_type": "code",
   "execution_count": 15,
   "metadata": {},
   "outputs": [],
   "source": [
    "# Pre-processing\n",
    "# Step: 1\n",
    "tmp_data, string = list(), \"\"\n",
    "for line in lines:\n",
    "    line = line.strip()\n",
    "    if line == \",,,,,\":\n",
    "        tmp_data.append(string)\n",
    "        string = \"\"\n",
    "    else:\n",
    "        string+= line\n",
    "tmp_data.append(string)"
   ]
  },
  {
   "cell_type": "code",
   "execution_count": 16,
   "metadata": {},
   "outputs": [
    {
     "name": "stdout",
     "output_type": "stream",
     "text": [
      "Actual Text:\n",
      "BusinessLine twenty years ago today: Poll schedule announced, \"The Election Commission on Thursday announced that the Lok Sabha elections and polls to five State Assemblies would be held simultaneously over four days beginning February 16. Announcing the dates for holding the elections,  the Chief Election Commissioner,  Dr. M.S. Gill,  said voting would be held on February 16,  22 and 28 and on March 7. The process for holding bye-elections to fill casual vacancies in some State Legislative Assemblies would also be held during this period.I-T Dept crackdown likely on VDIS payment defaultersThe I-T Department may clamp down on declarants under the just-ended Voluntary Disclosure of Income Scheme (VDIS) who fail to pay up the obligatory 30 per cent tax by March 31. Although the VDIS came to a close on Wednesday,  declarants have been allowed to pay taxes within three months of filing the declaration after paying interest at the rate of 2 per cent per month or part of the month to be calculated from the date of declaration under Section 67(1) of the VDIS.No cheer in industrial output growthThe incipient recession that has set in during the current fiscal seems to show no let-up or sign of recovery as industrial production during the first seven months of 1997-98 (April-October) showed a growth of five per cent in contrast to a robust 10 per cent growth in the corresponding period of 1996-97. “Quick estimates” of the index of industrial production (IIP) with 1980-81 base show that the growth of industrial production in October 1997 was a meagre 3.3 per cent as against 10 per cent in October 1996. The worst performer is manufacturing,  which,  with a weight of 77.11 per cent,  posted a paltry 4.7 per cent growth in the first seven months of the current fiscal.\"\n",
      "\n",
      "\n",
      "Predicted Text:\n",
      "BusinessLine twenty years ago today Poll schedule announced The Election Commission on Thursday announced that the Lok Sabha elections and polls to five State Assemblies would be held simultaneously over four days beginning February Announcing the dates for holding the elections the Chief Election Commissioner Dr M S Gill said voting would be held on February and and on March The process for holding bye elections to fill casual vacancies in some State Legislative Assemblies would also be held during this period I T Dept crackdown likely on VDIS payment defaultersThe I T Department may clamp down on declarants under the just ended Voluntary Disclosure of Income Scheme VDIS who fail to pay up the obligatory per cent tax by March Although the VDIS came to a close on Wednesday declarants have been allowed to pay taxes within three months of filing the declaration after paying interest at the rate of per cent per month or part of the month to be calculated from the date of declaration under Section of the VDIS No cheer in industrial output growthThe incipient recession that has set in during the current fiscal seems to show no let up or sign of recovery as industrial production during the first seven months of April October showed a growth of five per cent in contrast to a robust per cent growth in the corresponding period of Quick estimates of the index of industrial production IIP with base show that the growth of industrial production in October was a meagre per cent as against per cent in October The worst performer is manufacturing which with a weight of per cent posted a paltry per cent growth in the first seven months of the current fiscal \n"
     ]
    }
   ],
   "source": [
    "# Step: 2\n",
    "data, Y = list(), list()\n",
    "for idx, sample in enumerate(tmp_data):\n",
    "    x = sample.split(',')\n",
    "    year, month, day, text, label = int(x[0]), int(x[1]), int(x[2]), \", \".join(x[3:-1]), int(x[-1])\n",
    "    if idx == 0:\n",
    "        print(\"Actual Text:\\n\"+text)\n",
    "    # Remove numbers\n",
    "    text = text.replace('0', '').replace('1', '').replace('2', '').replace('3', '').replace('4', '').replace('5', '')\n",
    "    text = text.replace('6', '').replace('7', '').replace('8', '').replace('9', '')\n",
    "    # Remove punctuations\n",
    "    text = text.replace('“', '').replace('”', '').replace('\"', '').replace('!', '').replace('(', '').replace(')', '')\n",
    "    text = text.replace('[', '').replace(']', '').replace('.', ' ').replace(', ', ' ').replace(':', ' ').replace('*', '')\n",
    "    text = text.replace('#', '').replace('-', ' ').replace('%', '').replace('&', '').replace('$', '').replace('^', '')\n",
    "    text = text.replace(\"'\", \"\").replace('+', '').replace(';', '').replace('?', '').replace('/', '').replace('=', '')\n",
    "    text = text.replace('@', '')\n",
    "    # Above pre-processing might lead to multiple consecutive spaces within string\n",
    "    text = re.sub(' +', ' ', text)\n",
    "    if idx == 0:\n",
    "        print(\"\\n\\nPredicted Text:\\n\"+text)\n",
    "    data.append(text), Y.append(label)"
   ]
  },
  {
   "cell_type": "code",
   "execution_count": 17,
   "metadata": {},
   "outputs": [
    {
     "data": {
      "text/plain": [
       "(5461, 42)"
      ]
     },
     "execution_count": 17,
     "metadata": {},
     "output_type": "execute_result"
    }
   ],
   "source": [
    "# Let's check out the frequency of each class label\n",
    "Y.count(0), Y.count(1)\n",
    "# The resulting data is highly imbalanced, i.e. 0 - 99.2367%    1 - 0.7632%"
   ]
  },
  {
   "cell_type": "code",
   "execution_count": 18,
   "metadata": {},
   "outputs": [
    {
     "name": "stdout",
     "output_type": "stream",
     "text": [
      "['aa', 'aaa', 'aaa ’', 'aadhaar', 'aadhaar authentication', 'aadhaar based', 'aadhaar card', 'aadhaar cards', 'aadhaar data', 'aadhaar linking', 'aadhaar mobile', 'aadhaar number', 'aadhaar numbers', 'aadhaar therefore', 'aadmi', 'aadmi party', 'aai', 'aam', 'aam aadmi', 'aam nagrik', 'aap', 'aap leader', 'aap mlas', 'aap ’', 'aashish', 'aayog', 'aayog member', 'aayog ’', 'ab', 'ab de', 'abandon', 'abandoned', 'abbas', 'abbott', 'abc', 'abdul', 'abe', 'abhay', 'abhijit', 'abhishek', 'abhiyan', 'abide', 'abiding', 'abilities', 'ability', 'able', 'able access', 'able bring', 'able come', 'able complete', 'able create', 'able cultivate', 'able find', 'able get', 'able give', 'able keep', 'able make', 'able meet', 'able sell', 'able strike', 'able take', 'able use', 'abled', 'abolish', 'abolished', 'abolition', 'abraham', 'abroad', 'abs', 'absence', 'absent', 'absolute', 'absolute decline', 'absolute terms', 'absolute value', 'absolutely', 'absorb', 'absorbed', 'absorbing', 'absorption', 'absurd', 'abu', 'abu dhabi', 'abundant', 'abuse', 'abused', 'abuses', 'abuzz', 'abysmal', 'abysmally', 'ac', 'ac segment', 'academia', 'academia industry', 'academic', 'academic institutions', 'academic research', 'academicians', 'academics', 'academy']\n"
     ]
    }
   ],
   "source": [
    "data, Y = np.array(data), np.array(Y)\n",
    "vectorizer = TfidfVectorizer(ngram_range=(1, 2), stop_words=set(stopwords.words('english')), tokenizer=nltk.word_tokenize, min_df=5)\n",
    "X = vectorizer.fit_transform(data)\n",
    "\n",
    "# We can check out the features(words) that represent a single vector\n",
    "print(vectorizer.get_feature_names()[:100])"
   ]
  },
  {
   "cell_type": "code",
   "execution_count": 37,
   "metadata": {},
   "outputs": [],
   "source": [
    "#Divide the data into train test\n",
    "X_train, X_test, Y_train, Y_test = train_test_split(X, Y, test_size=0.2, random_state=0)"
   ]
  },
  {
   "cell_type": "code",
   "execution_count": 38,
   "metadata": {},
   "outputs": [
    {
     "name": "stdout",
     "output_type": "stream",
     "text": [
      "0.99\n",
      "1.00 0.30 0.46\n"
     ]
    },
    {
     "name": "stderr",
     "output_type": "stream",
     "text": [
      "C:\\ProgramData\\Anaconda3\\lib\\site-packages\\sklearn\\ensemble\\forest.py:248: FutureWarning: The default value of n_estimators will change from 10 in version 0.20 to 100 in 0.22.\n",
      "  \"10 in version 0.20 to 100 in 0.22.\", FutureWarning)\n"
     ]
    }
   ],
   "source": [
    "rus = RandomUnderSampler(random_state=0, ratio={0:3500})\n",
    "X_train, Y_train = rus.fit_resample(X_train, Y_train)\n",
    "\n",
    "# Perform training and prediction\n",
    "model = RandomForestClassifier(random_state=0)\n",
    "model.fit(X_train, Y_train)\n",
    "preds = model.predict(X_test)\n",
    "\n",
    "print(\"%.2f\" % (accuracy_score(Y_test, preds)))\n",
    "print(\"%.2f %.2f %.2f\" % (precision_score(Y_test, preds), recall_score(Y_test, preds), f1_score(Y_test, preds)))"
   ]
  },
  {
   "cell_type": "code",
   "execution_count": null,
   "metadata": {},
   "outputs": [],
   "source": []
  }
 ],
 "metadata": {
  "kernelspec": {
   "display_name": "Python 3",
   "language": "python",
   "name": "python3"
  },
  "language_info": {
   "codemirror_mode": {
    "name": "ipython",
    "version": 3
   },
   "file_extension": ".py",
   "mimetype": "text/x-python",
   "name": "python",
   "nbconvert_exporter": "python",
   "pygments_lexer": "ipython3",
   "version": "3.6.0"
  }
 },
 "nbformat": 4,
 "nbformat_minor": 2
}
