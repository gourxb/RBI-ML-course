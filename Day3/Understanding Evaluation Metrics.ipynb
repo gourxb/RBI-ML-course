{
 "cells": [
  {
   "cell_type": "markdown",
   "metadata": {},
   "source": [
    "### Precision vs Recall"
   ]
  },
  {
   "cell_type": "markdown",
   "metadata": {},
   "source": [
    "Before diving into the concept of precision and recall, let's understand what Type I and Type II errors signify."
   ]
  },
  {
   "cell_type": "markdown",
   "metadata": {},
   "source": [
    "![Type 1 and Type 2](https://4.bp.blogspot.com/-wmZzvsY_Tec/Vws0f4MJn9I/AAAAAAAAORs/gipKxA7aDboP0gx2vSmyQS_ZoVBPzqaWA/s1600/Type%2BI%2Band%2BII%2Berror.jpg)"
   ]
  },
  {
   "cell_type": "markdown",
   "metadata": {},
   "source": [
    "But deciding which is worse, require domain knowledge.\n",
    "![](https://cdn-images-1.medium.com/max/1000/1*2H83AwI8XFSjLSnMdUy5Yw.png)"
   ]
  },
  {
   "cell_type": "markdown",
   "metadata": {},
   "source": [
    "### Understanding Recall and Precision thought some examples:\n",
    "\n",
    "#### Example 1\n",
    "Let’s say I searched on Google for “what is precision and recall?” and in less than a minute I have about 15,600,000 results.\n",
    "\n",
    "Let’s say out of these 15.6 million results, the relevant links to my question were about 2 million. Assuming there were also about 6 million more results that were relevant but weren’t returned by Google, for such system we would say that it has a precision of 2M/15.6M and a recall of 2M/8M.\n",
    "\n",
    "This implies that the probability of Google’s algorithm to retrieve all the relevant links was 0.25 (recall) and the probability that all the retrieved links were relevant is 0.13 (precision).\n",
    "\n",
    "\n",
    "#### Example 2\n",
    "\n",
    "If someone asked you to list the names of 5 presents you got last Christmas but you couldn’t exactly remember the 5 names — so you randomly guessed seven times. Out of the 7 names you remembered, 5 was recalled correctly while 2 were gifts you received on your birthday. Even though you got a 100% recall (5/5) your precision was 71.4% (5/7).\n",
    "\n",
    "#### Example 3\n",
    "Suppose, we need to identify — terrorists and not terrorists. With one category representing the overwhelming majority of the data points.  Recall, or the ability of a model to find all the relevant cases within a dataset. It can be thought as of a model’s ability to find all the data points of interest in a dataset. **Note: if we label all individuals as terrorists, then our recall goes to 1.0!**. Other hand, Precision expresses the proportion of the data points our model says was relevant actually were relevant."
   ]
  },
  {
   "cell_type": "markdown",
   "metadata": {},
   "source": [
    "![Confusion Metrics](https://cdn-images-1.medium.com/max/1250/1*pOtBHai4jFd-ujaNXPilRg.png)"
   ]
  },
  {
   "cell_type": "markdown",
   "metadata": {},
   "source": [
    "** NOTE: There is always a tradeoff between Recall and Precision ** "
   ]
  },
  {
   "cell_type": "code",
   "execution_count": null,
   "metadata": {},
   "outputs": [],
   "source": []
  }
 ],
 "metadata": {
  "kernelspec": {
   "display_name": "Python 3",
   "language": "python",
   "name": "python3"
  },
  "language_info": {
   "codemirror_mode": {
    "name": "ipython",
    "version": 3
   },
   "file_extension": ".py",
   "mimetype": "text/x-python",
   "name": "python",
   "nbconvert_exporter": "python",
   "pygments_lexer": "ipython3",
   "version": "3.6.4"
  }
 },
 "nbformat": 4,
 "nbformat_minor": 2
}
