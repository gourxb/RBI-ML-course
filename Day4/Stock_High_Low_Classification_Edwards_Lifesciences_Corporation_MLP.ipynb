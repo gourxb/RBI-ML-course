{
 "cells": [
  {
   "cell_type": "code",
   "execution_count": 2,
   "metadata": {},
   "outputs": [],
   "source": [
    "import numpy as np\n",
    "from sklearn.model_selection import train_test_split\n",
    "from sklearn.metrics import accuracy_score\n",
    "from sklearn.preprocessing import StandardScaler, PolynomialFeatures\n",
    "import matplotlib.pyplot as plt"
   ]
  },
  {
   "cell_type": "code",
   "execution_count": 3,
   "metadata": {},
   "outputs": [
    {
     "name": "stdout",
     "output_type": "stream",
     "text": [
      "[3.81250e+00 4.15625e+00 3.81250e+00 4.12500e+00 4.12500e+00 3.67560e+06]\n"
     ]
    }
   ],
   "source": [
    "# Read the data. We do not need the header and date column of the file\n",
    "# Change the path if required\n",
    "fp = open(\"../data/EW-MAX.csv\")\n",
    "data = np.array([[float(i.strip()) for i in line.split(',')[1:]] for line in fp.readlines()[1:]])\n",
    "\n",
    "print(data[0])"
   ]
  },
  {
   "cell_type": "markdown",
   "metadata": {},
   "source": [
    "### Preprocessing"
   ]
  },
  {
   "cell_type": "code",
   "execution_count": 4,
   "metadata": {},
   "outputs": [
    {
     "name": "stdout",
     "output_type": "stream",
     "text": [
      "[3.8125  4.15625 3.8125  4.125   4.125  ]\n"
     ]
    }
   ],
   "source": [
    "# Remove Volume feature\n",
    "data = data[:,:5]\n",
    "print(data[0])"
   ]
  },
  {
   "cell_type": "code",
   "execution_count": 5,
   "metadata": {},
   "outputs": [],
   "source": [
    "# One day ahead prediction using data of previous three days\n",
    "new_data = list()\n",
    "for i in range(2, len(data)):\n",
    "    new_data.append(np.concatenate((data[i], data[i-1], data[i-2])))"
   ]
  },
  {
   "cell_type": "code",
   "execution_count": 6,
   "metadata": {},
   "outputs": [],
   "source": [
    "# Since we are going to predict one day ahead, the last sample is not required\n",
    "X, Y = np.array(new_data), np.zeros(len(new_data)-1)"
   ]
  },
  {
   "cell_type": "code",
   "execution_count": 16,
   "metadata": {},
   "outputs": [],
   "source": [
    "# Now perform labelling. Given yesterday's closing price, predict today's opening high and low\n",
    "tmp_y = list()\n",
    "for i in range(len(X)-1):\n",
    "    # Opening price is higher than closing price\n",
    "    if X[i][3] - X[i+1][0] < 0:\n",
    "        Y[i] = 1\n",
    "    tmp_y.append(X[i][3] - X[i+1][0])"
   ]
  },
  {
   "cell_type": "code",
   "execution_count": 17,
   "metadata": {},
   "outputs": [
    {
     "data": {
      "image/png": "[encoded data removed]",
      "text/plain": [
       "<Figure size 432x288 with 1 Axes>"
      ]
     },
     "metadata": {},
     "output_type": "display_data"
    }
   ],
   "source": [
    "plt.plot([i for i in range(1, len(tmp_y)+1)], tmp_y)\n",
    "plt.xlabel('Time')\n",
    "plt.xlabel(\"Difference in Today's and Tomorrow's opening\")\n",
    "plt.show()"
   ]
  },
  {
   "cell_type": "code",
   "execution_count": 9,
   "metadata": {},
   "outputs": [],
   "source": [
    "# We can now remove the last sample\n",
    "X = X[:-1, :]"
   ]
  },
  {
   "cell_type": "code",
   "execution_count": 10,
   "metadata": {},
   "outputs": [],
   "source": [
    "# Perform a train test split\n",
    "X_train, X_test, Y_train, Y_test = train_test_split(X, Y, test_size=0.2, random_state=0)\n",
    "scaler1 = StandardScaler()\n",
    "X_train, X_test = scaler1.fit_transform(X_train), scaler1.transform(X_test)"
   ]
  },
  {
   "cell_type": "markdown",
   "metadata": {},
   "source": [
    "### Prediction"
   ]
  },
  {
   "cell_type": "code",
   "execution_count": 15,
   "metadata": {},
   "outputs": [
    {
     "name": "stderr",
     "output_type": "stream",
     "text": [
      "C:\\ProgramData\\Anaconda3\\lib\\site-packages\\keras\\activations.py:211: UserWarning: Do not pass a layer instance (such as LeakyReLU) as the activation argument of another layer. Instead, advanced activation layers should be used just like any other layer in a model.\n",
      "  identifier=identifier.__class__.__name__))\n"
     ]
    },
    {
     "name": "stdout",
     "output_type": "stream",
     "text": [
      "Epoch 1/10\n",
      "3511/3511 [==============================] - 2s 528us/step - loss: 0.6929 - acc: 0.5449\n",
      "Epoch 2/10\n",
      "3511/3511 [==============================] - 1s 348us/step - loss: 0.6893 - acc: 0.5480\n",
      "Epoch 3/10\n",
      "3511/3511 [==============================] - 2s 429us/step - loss: 0.6891 - acc: 0.5332\n",
      "Epoch 4/10\n",
      "3511/3511 [==============================] - 2s 438us/step - loss: 0.6874 - acc: 0.5463\n",
      "Epoch 5/10\n",
      "3511/3511 [==============================] - 2s 431us/step - loss: 0.6876 - acc: 0.5451\n",
      "Epoch 6/10\n",
      "3511/3511 [==============================] - 2s 428us/step - loss: 0.6878 - acc: 0.5414\n",
      "Epoch 7/10\n",
      "3511/3511 [==============================] - 2s 430us/step - loss: 0.6884 - acc: 0.5392\n",
      "Epoch 8/10\n",
      "3511/3511 [==============================] - 1s 399us/step - loss: 0.6880 - acc: 0.5409\n",
      "Epoch 9/10\n",
      "3511/3511 [==============================] - 1s 287us/step - loss: 0.6871 - acc: 0.5343\n",
      "Epoch 10/10\n",
      "3511/3511 [==============================] - 1s 426us/step - loss: 0.6878 - acc: 0.5457\n",
      "0.5466970387243736\n"
     ]
    }
   ],
   "source": [
    "# Perform predictions\n",
    "# Check out both svm and decision tree. Try adding polynomial features and see which gives best results.\n",
    "from keras.models import Sequential\n",
    "from keras.layers import Dense, Activation, Dropout, LeakyReLU\n",
    "\n",
    "lr = LeakyReLU()\n",
    "\n",
    "model = Sequential()\n",
    "model.add(Dense(units=100, input_dim=len(X_train[0]), activation=lr))\n",
    "model.add(Dense(units=15, activation=lr))\n",
    "model.add(Dense(units=1, activation='sigmoid'))\n",
    "\n",
    "model.compile(loss='binary_crossentropy', optimizer='adam', metrics=['accuracy'])\n",
    "model.fit(X_train, Y_train, epochs=10, batch_size=32, shuffle=True)\n",
    "preds = model.predict(X_test)\n",
    "\n",
    "print(accuracy_score(Y_test, np.round(preds)))"
   ]
  },
  {
   "cell_type": "code",
   "execution_count": null,
   "metadata": {},
   "outputs": [],
   "source": []
  },
  {
   "cell_type": "code",
   "execution_count": null,
   "metadata": {},
   "outputs": [],
   "source": []
  }
 ],
 "metadata": {
  "kernelspec": {
   "display_name": "Python 3",
   "language": "python",
   "name": "python3"
  },
  "language_info": {
   "codemirror_mode": {
    "name": "ipython",
    "version": 3
   },
   "file_extension": ".py",
   "mimetype": "text/x-python",
   "name": "python",
   "nbconvert_exporter": "python",
   "pygments_lexer": "ipython3",
   "version": "3.6.0"
  }
 },
 "nbformat": 4,
 "nbformat_minor": 2
}
